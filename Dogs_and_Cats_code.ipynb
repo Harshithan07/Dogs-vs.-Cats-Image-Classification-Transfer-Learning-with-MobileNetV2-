{
 "cells": [
  {
   "cell_type": "code",
   "execution_count": 1,
   "metadata": {
    "execution": {
     "iopub.execute_input": "2025-04-23T01:52:15.563799Z",
     "iopub.status.busy": "2025-04-23T01:52:15.563001Z",
     "iopub.status.idle": "2025-04-23T01:52:15.590073Z",
     "shell.execute_reply": "2025-04-23T01:52:15.589486Z",
     "shell.execute_reply.started": "2025-04-23T01:52:15.563768Z"
    },
    "trusted": true
   },
   "outputs": [
    {
     "data": {
      "text/plain": [
       "['dogs-vs-cats', 'dogs-vs-cats-redux-kernels-edition', 'kaggle-json']"
      ]
     },
     "execution_count": 1,
     "metadata": {},
     "output_type": "execute_result"
    }
   ],
   "source": [
    "import os\n",
    "\n",
    "os.listdir(\"/kaggle/input\")"
   ]
  },
  {
   "cell_type": "code",
   "execution_count": 2,
   "metadata": {
    "execution": {
     "iopub.execute_input": "2025-04-23T01:52:15.767577Z",
     "iopub.status.busy": "2025-04-23T01:52:15.767237Z",
     "iopub.status.idle": "2025-04-23T01:52:15.777416Z",
     "shell.execute_reply": "2025-04-23T01:52:15.776784Z",
     "shell.execute_reply.started": "2025-04-23T01:52:15.767548Z"
    },
    "trusted": true
   },
   "outputs": [
    {
     "name": "stdout",
     "output_type": "stream",
     "text": [
      "\n",
      "Contents of: /kaggle/input/kaggle-json\n",
      "['kaggle.json']\n",
      "\n",
      "Contents of: /kaggle/input/dogs-vs-cats\n",
      "['sample_submission.csv', 'test', 'train']\n",
      "\n",
      "Contents of: /kaggle/input/dogs-vs-cats-redux-kernels-edition\n",
      "['sample_submission.csv', 'train.zip', 'test.zip']\n"
     ]
    }
   ],
   "source": [
    "for folder in ['kaggle-json', 'dogs-vs-cats', 'dogs-vs-cats-redux-kernels-edition']:\n",
    "    print(f\"\\nContents of: /kaggle/input/{folder}\")\n",
    "    print(os.listdir(f\"/kaggle/input/{folder}\")[:5])"
   ]
  },
  {
   "cell_type": "code",
   "execution_count": null,
   "metadata": {
    "execution": {
     "iopub.execute_input": "2025-04-23T01:52:15.778933Z",
     "iopub.status.busy": "2025-04-23T01:52:15.778697Z"
    },
    "trusted": true
   },
   "outputs": [
    {
     "name": "stderr",
     "output_type": "stream",
     "text": [
      "2025-04-23 01:52:17.768242: E external/local_xla/xla/stream_executor/cuda/cuda_fft.cc:477] Unable to register cuFFT factory: Attempting to register factory for plugin cuFFT when one has already been registered\n",
      "WARNING: All log messages before absl::InitializeLog() is called are written to STDERR\n",
      "E0000 00:00:1745373138.021054     998 cuda_dnn.cc:8310] Unable to register cuDNN factory: Attempting to register factory for plugin cuDNN when one has already been registered\n",
      "E0000 00:00:1745373138.090147     998 cuda_blas.cc:1418] Unable to register cuBLAS factory: Attempting to register factory for plugin cuBLAS when one has already been registered\n"
     ]
    }
   ],
   "source": [
    "import os\n",
    "import tensorflow as tf\n",
    "from tensorflow.keras import layers, models\n",
    "from tensorflow.keras.applications import ResNet50, EfficientNetB0, MobileNetV2\n",
    "from tensorflow.keras.preprocessing.image import ImageDataGenerator\n",
    "from tensorflow.keras.optimizers import Adam, SGD\n",
    "import matplotlib.pyplot as plt\n",
    "import time"
   ]
  },
  {
   "cell_type": "code",
   "execution_count": null,
   "metadata": {
    "trusted": true
   },
   "outputs": [],
   "source": [
    "# Paths\n",
    "DATA_DIR = \"/kaggle/working/split_dataset\""
   ]
  },
  {
   "cell_type": "code",
   "execution_count": null,
   "metadata": {
    "trusted": true
   },
   "outputs": [],
   "source": [
    "import os\n",
    "\n",
    "data_dir = \"/kaggle/input/dogs-vs-cats/train/train\"\n",
    "print(\"Sample files:\", os.listdir(data_dir)[:5])"
   ]
  },
  {
   "cell_type": "code",
   "execution_count": null,
   "metadata": {
    "trusted": true
   },
   "outputs": [],
   "source": [
    "import os, shutil\n",
    "\n",
    "data_dir = \"/kaggle/input/dogs-vs-cats/train/train\"\n",
    "split_dir = \"/kaggle/working/split_dataset\"\n",
    "cat_dir = os.path.join(split_dir, \"cats\")\n",
    "dog_dir = os.path.join(split_dir, \"dogs\")\n",
    "\n",
    "os.makedirs(cat_dir, exist_ok=True)\n",
    "os.makedirs(dog_dir, exist_ok=True)\n",
    "\n",
    "for fname in os.listdir(data_dir):\n",
    "    src = os.path.join(data_dir, fname)\n",
    "    if fname.startswith(\"cat\"):\n",
    "        shutil.copy(src, os.path.join(cat_dir, fname))\n",
    "    elif fname.startswith(\"dog\"):\n",
    "        shutil.copy(src, os.path.join(dog_dir, fname))"
   ]
  },
  {
   "cell_type": "code",
   "execution_count": null,
   "metadata": {
    "trusted": true
   },
   "outputs": [],
   "source": [
    "print(\"Cats:\", len(os.listdir(cat_dir)))\n",
    "print(\"Dogs:\", len(os.listdir(dog_dir)))\n"
   ]
  },
  {
   "cell_type": "code",
   "execution_count": null,
   "metadata": {
    "trusted": true
   },
   "outputs": [],
   "source": [
    "from tensorflow.keras.utils import image_dataset_from_directory\n",
    "\n",
    "# Load raw datasets\n",
    "raw_train_ds = image_dataset_from_directory(\n",
    "    split_dir,\n",
    "    labels=\"inferred\",\n",
    "    label_mode=\"binary\",\n",
    "    batch_size=16,\n",
    "    image_size=(224, 224),\n",
    "    validation_split=0.2,\n",
    "    subset=\"training\",\n",
    "    seed=42\n",
    ")\n",
    "\n",
    "raw_val_ds = image_dataset_from_directory(\n",
    "    split_dir,\n",
    "    labels=\"inferred\",\n",
    "    label_mode=\"binary\",\n",
    "    batch_size=16,\n",
    "    image_size=(224, 224),\n",
    "    validation_split=0.2,\n",
    "    subset=\"validation\",\n",
    "    seed=42\n",
    ")\n"
   ]
  },
  {
   "cell_type": "code",
   "execution_count": null,
   "metadata": {
    "trusted": true
   },
   "outputs": [],
   "source": [
    "# Store class names for later use\n",
    "class_names = raw_train_ds.class_names"
   ]
  },
  {
   "cell_type": "code",
   "execution_count": null,
   "metadata": {
    "trusted": true
   },
   "outputs": [],
   "source": [
    "from tensorflow.keras import layers\n",
    "\n",
    "# Define data augmentation (only for training)\n",
    "data_augmentation = tf.keras.Sequential([\n",
    "    layers.RandomFlip(\"horizontal\"),\n",
    "    layers.RandomRotation(0.1),\n",
    "    layers.RandomZoom(0.1),\n",
    "    layers.RandomContrast(0.1),\n",
    "])\n",
    "\n",
    "# Define normalization\n",
    "normalization_layer = layers.Rescaling(1./255)\n",
    "AUTOTUNE = tf.data.AUTOTUNE\n",
    "\n",
    "# Apply data augmentation + normalization to training set\n",
    "train_ds = raw_train_ds.map(lambda x, y: (data_augmentation(x, training=True), y))\n",
    "train_ds = train_ds.map(lambda x, y: (normalization_layer(x), y)).cache().shuffle(1000).prefetch(buffer_size=AUTOTUNE)\n",
    "\n",
    "# Apply only normalization to validation set\n",
    "val_ds = raw_val_ds.map(lambda x, y: (normalization_layer(x), y)).cache().prefetch(buffer_size=AUTOTUNE)"
   ]
  },
  {
   "cell_type": "code",
   "execution_count": null,
   "metadata": {
    "trusted": true
   },
   "outputs": [],
   "source": [
    "# for images, labels in train_ds.take(1):\n",
    "#     print(images.shape, labels.shape)"
   ]
  },
  {
   "cell_type": "code",
   "execution_count": null,
   "metadata": {
    "trusted": true
   },
   "outputs": [],
   "source": [
    "# plt.figure(figsize=(10, 10))\n",
    "# for images, labels in train_ds.take(1):\n",
    "#     for i in range(9):\n",
    "#         ax = plt.subplot(3, 3, i + 1)\n",
    "#         img = tf.keras.utils.array_to_img(images[i])  # handles float32 to uint8 safely\n",
    "#         label = \"Dog\" if labels[i].numpy() == 1 else \"Cat\"\n",
    "#         plt.imshow(img)\n",
    "#         plt.title(label)\n",
    "#         plt.axis(\"off\")\n"
   ]
  },
  {
   "cell_type": "code",
   "execution_count": null,
   "metadata": {
    "trusted": true
   },
   "outputs": [],
   "source": [
    "# from collections import Counter\n",
    "\n",
    "# counter = Counter()\n",
    "# for _, label in train_ds.unbatch():\n",
    "#     counter[int(label.numpy())] += 1\n",
    "\n",
    "# print(\"Cat count:\", counter[0])\n",
    "# print(\"Dog count:\", counter[1])"
   ]
  },
  {
   "cell_type": "code",
   "execution_count": null,
   "metadata": {
    "trusted": true
   },
   "outputs": [],
   "source": [
    "# for images, labels in train_ds.take(1):\n",
    "#     print(\"Image batch shape:\", images.shape)  # Should be (batch_size, 224, 224, 3)\n",
    "#     print(\"Label batch shape:\", labels.shape)"
   ]
  },
  {
   "cell_type": "code",
   "execution_count": null,
   "metadata": {
    "trusted": true
   },
   "outputs": [],
   "source": [
    "# # Run this twice and compare outputs manually\n",
    "# for images, _ in train_ds.take(1):\n",
    "#     plt.imshow(tf.keras.utils.array_to_img(images[0]))\n",
    "#     break"
   ]
  },
  {
   "cell_type": "markdown",
   "metadata": {},
   "source": [
    "## MODEL EXPLORATION"
   ]
  },
  {
   "cell_type": "markdown",
   "metadata": {},
   "source": [
    "### MOBILENET_V2"
   ]
  },
  {
   "cell_type": "code",
   "execution_count": null,
   "metadata": {
    "trusted": true
   },
   "outputs": [],
   "source": [
    "# from tensorflow.keras.applications import MobileNetV2\n",
    "# from tensorflow.keras import layers, models\n",
    "# from tensorflow.keras.optimizers import Adam\n",
    "\n",
    "# # Load MobileNetV2 base\n",
    "# base_model = MobileNetV2(input_shape=(224, 224, 3), include_top=False, weights='imagenet')\n",
    "# base_model.trainable = False  # freeze pretrained layers\n",
    "\n",
    "# # Build full model\n",
    "# model = models.Sequential([\n",
    "#     base_model,\n",
    "#     layers.GlobalAveragePooling2D(),\n",
    "#     layers.Dense(1, activation='sigmoid')  # Binary classification\n",
    "# ])\n",
    "\n",
    "# # Compile\n",
    "# model.compile(optimizer=Adam(learning_rate=0.001),\n",
    "#               loss='binary_crossentropy',\n",
    "#               metrics=['accuracy'])\n",
    "\n",
    "# model.summary()"
   ]
  },
  {
   "cell_type": "code",
   "execution_count": null,
   "metadata": {
    "trusted": true
   },
   "outputs": [],
   "source": [
    "# # Train the model\n",
    "# history_mobilenet = model.fit(\n",
    "#     train_ds,\n",
    "#     validation_data=val_ds,\n",
    "#     epochs=5  # Start with 5; increase if training looks good\n",
    "# )"
   ]
  },
  {
   "cell_type": "code",
   "execution_count": null,
   "metadata": {
    "trusted": true
   },
   "outputs": [],
   "source": [
    "# import matplotlib.pyplot as plt\n",
    "\n",
    "# acc = history_mobilenet.history['accuracy']\n",
    "# val_acc = history_mobilenet.history['val_accuracy']\n",
    "# loss = history_mobilenet.history['loss']\n",
    "# val_loss = history_mobilenet.history['val_loss']\n",
    "# epochs_range = range(len(acc))\n",
    "\n",
    "# plt.figure(figsize=(12, 4))\n",
    "\n",
    "# plt.subplot(1, 2, 1)\n",
    "# plt.plot(epochs_range, acc, label='Train Accuracy')\n",
    "# plt.plot(epochs_range, val_acc, label='Val Accuracy')\n",
    "# plt.legend()\n",
    "# plt.title(\"MobileNetV2 - Accuracy\")\n",
    "\n",
    "# plt.subplot(1, 2, 2)\n",
    "# plt.plot(epochs_range, loss, label='Train Loss')\n",
    "# plt.plot(epochs_range, val_loss, label='Val Loss')\n",
    "# plt.legend()\n",
    "# plt.title(\"MobileNetV2 - Loss\")\n",
    "\n",
    "# plt.show()"
   ]
  },
  {
   "cell_type": "code",
   "execution_count": null,
   "metadata": {
    "trusted": true
   },
   "outputs": [],
   "source": []
  },
  {
   "cell_type": "markdown",
   "metadata": {},
   "source": [
    "### EFFICIENTNETB7"
   ]
  },
  {
   "cell_type": "code",
   "execution_count": null,
   "metadata": {
    "trusted": true
   },
   "outputs": [],
   "source": [
    "# from tensorflow.keras.applications import EfficientNetB7\n",
    "# from tensorflow.keras.models import Model\n",
    "# from tensorflow.keras.layers import GlobalAveragePooling2D\n",
    "\n",
    "# # Load pretrained EfficientNetB7 and extract features\n",
    "# effnet = EfficientNetB7(weights='imagenet', include_top=False, input_shape=(224, 224, 3))\n",
    "# effnet.trainable = False\n",
    "\n",
    "# feature_model = Model(inputs=effnet.input, outputs=GlobalAveragePooling2D()(effnet.output))"
   ]
  },
  {
   "cell_type": "code",
   "execution_count": null,
   "metadata": {
    "trusted": true
   },
   "outputs": [],
   "source": [
    "# import numpy as np\n",
    "# from tqdm import tqdm  # Optional progress bar\n",
    "\n",
    "# def extract_features(dataset, model):\n",
    "#     features = []\n",
    "#     labels = []\n",
    "#     for images, lbls in tqdm(dataset, desc=\"Extracting features\"):\n",
    "#         # Predict without printing progress\n",
    "#         f = model.predict(images, verbose=0)\n",
    "#         features.append(f)\n",
    "#         labels.append(lbls.numpy())\n",
    "#     return np.concatenate(features), np.concatenate(labels)\n",
    "\n",
    "# # Run extraction\n",
    "# X_train_feat, y_train = extract_features(train_ds, feature_model)\n",
    "# X_val_feat, y_val = extract_features(val_ds, feature_model)"
   ]
  },
  {
   "cell_type": "code",
   "execution_count": null,
   "metadata": {
    "trusted": true
   },
   "outputs": [],
   "source": [
    "# from sklearn.linear_model import LogisticRegression\n",
    "# from sklearn.metrics import accuracy_score\n",
    "\n",
    "# lr = LogisticRegression(max_iter=1000)\n",
    "# lr.fit(X_train_feat, y_train)\n",
    "\n",
    "# # Predict and evaluate\n",
    "# y_pred_lr = lr.predict(X_val_feat)\n",
    "# acc_lr = accuracy_score(y_val, y_pred_lr)\n",
    "# print(f\"✅ Logistic Regression Accuracy: {acc_lr:.4f}\")"
   ]
  },
  {
   "cell_type": "code",
   "execution_count": null,
   "metadata": {
    "trusted": true
   },
   "outputs": [],
   "source": [
    "# from xgboost import XGBClassifier\n",
    "\n",
    "# xgb = XGBClassifier(use_label_encoder=False, eval_metric='logloss')\n",
    "# xgb.fit(X_train_feat, y_train)\n",
    "\n",
    "# # Predict and evaluate\n",
    "# y_pred_xgb = xgb.predict(X_val_feat)\n",
    "# acc_xgb = accuracy_score(y_val, y_pred_xgb)\n",
    "# print(f\"✅ XGBoost Accuracy: {acc_xgb:.4f}\")"
   ]
  },
  {
   "cell_type": "markdown",
   "metadata": {},
   "source": [
    "### SIMPLE CNN"
   ]
  },
  {
   "cell_type": "code",
   "execution_count": null,
   "metadata": {
    "trusted": true
   },
   "outputs": [],
   "source": [
    "# from tensorflow.keras import layers, models\n",
    "\n",
    "# simple_cnn = models.Sequential([\n",
    "#     layers.Input(shape=(224, 224, 3)),\n",
    "    \n",
    "#     layers.Conv2D(32, (3, 3), activation='relu'),\n",
    "#     layers.MaxPooling2D(),\n",
    "    \n",
    "#     layers.Conv2D(64, (3, 3), activation='relu'),\n",
    "#     layers.MaxPooling2D(),\n",
    "    \n",
    "#     layers.Conv2D(128, (3, 3), activation='relu'),\n",
    "#     layers.MaxPooling2D(),\n",
    "    \n",
    "#     layers.Flatten(),\n",
    "#     layers.Dense(128, activation='relu'),\n",
    "#     layers.Dropout(0.3),\n",
    "#     layers.Dense(1, activation='sigmoid')  # Binary classification\n",
    "# ])\n",
    "\n",
    "# simple_cnn.compile(optimizer='adam',\n",
    "#                    loss='binary_crossentropy',\n",
    "#                    metrics=['accuracy'])\n",
    "\n",
    "# simple_cnn.summary()\n"
   ]
  },
  {
   "cell_type": "code",
   "execution_count": null,
   "metadata": {
    "trusted": true
   },
   "outputs": [],
   "source": [
    "# history_cnn = simple_cnn.fit(\n",
    "#     train_ds,\n",
    "#     validation_data=val_ds,\n",
    "#     epochs=5\n",
    "# )"
   ]
  },
  {
   "cell_type": "code",
   "execution_count": null,
   "metadata": {
    "trusted": true
   },
   "outputs": [],
   "source": [
    "# from tensorflow.keras.applications import Xception\n",
    "# from tensorflow.keras import layers, models\n",
    "# from tensorflow.keras.optimizers import Adam\n",
    "\n",
    "# # Load pretrained Xception\n",
    "# xception_base = Xception(weights='imagenet', include_top=False, input_shape=(224, 224, 3))\n",
    "# xception_base.trainable = False  # Freeze base layers\n",
    "\n",
    "# # Build model\n",
    "# xception_model = models.Sequential([\n",
    "#     xception_base,\n",
    "#     layers.GlobalAveragePooling2D(),\n",
    "#     layers.Dense(1, activation='sigmoid')\n",
    "# ])\n",
    "\n",
    "# # Compile\n",
    "# xception_model.compile(optimizer=Adam(learning_rate=0.001),\n",
    "#                        loss='binary_crossentropy',\n",
    "#                        metrics=['accuracy'])\n",
    "\n",
    "# xception_model.summary()"
   ]
  },
  {
   "cell_type": "code",
   "execution_count": null,
   "metadata": {
    "trusted": true
   },
   "outputs": [],
   "source": [
    "# history_xception = xception_model.fit(\n",
    "#     train_ds,\n",
    "#     validation_data=val_ds,\n",
    "#     epochs=5\n",
    "# )"
   ]
  },
  {
   "cell_type": "markdown",
   "metadata": {},
   "source": [
    "### EFFICIENTNET B0"
   ]
  },
  {
   "cell_type": "code",
   "execution_count": null,
   "metadata": {
    "trusted": true
   },
   "outputs": [],
   "source": [
    "# from tensorflow.keras.applications import EfficientNetB0\n",
    "\n",
    "# efn_base = EfficientNetB0(weights='imagenet', include_top=False, input_shape=(224, 224, 3))\n",
    "# efn_base.trainable = False\n",
    "\n",
    "# efn_model = models.Sequential([\n",
    "#     efn_base,\n",
    "#     layers.GlobalAveragePooling2D(),\n",
    "#     layers.Dense(1, activation='sigmoid')\n",
    "# ])\n",
    "\n",
    "# efn_model.compile(optimizer=Adam(learning_rate=0.001),\n",
    "#                   loss='binary_crossentropy',\n",
    "#                   metrics=['accuracy'])\n",
    "\n",
    "# efn_model.summary()\n"
   ]
  },
  {
   "cell_type": "code",
   "execution_count": null,
   "metadata": {
    "trusted": true
   },
   "outputs": [],
   "source": [
    "# history_efn = efn_model.fit(\n",
    "#     train_ds,\n",
    "#     validation_data=val_ds,\n",
    "#     epochs=5\n",
    "# )"
   ]
  },
  {
   "cell_type": "markdown",
   "metadata": {},
   "source": [
    "## TEST DATA PREPROCESSING"
   ]
  },
  {
   "cell_type": "code",
   "execution_count": null,
   "metadata": {
    "trusted": true
   },
   "outputs": [],
   "source": [
    "import tensorflow as tf\n",
    "import os\n",
    "import numpy as np\n",
    "\n",
    "# Define a function to preprocess test images (normalization only)\n",
    "def preprocess_test_image(img_path):\n",
    "    img = tf.io.read_file(img_path)\n",
    "    img = tf.image.decode_jpeg(img, channels=3)\n",
    "    img = tf.image.resize(img, [224, 224])\n",
    "    img = tf.cast(img, tf.float32) / 255.0\n",
    "    return img\n",
    "\n",
    "# Get all test image file paths\n",
    "test_dir = \"/kaggle/input/dogs-vs-cats/test/test\"\n",
    "test_images = sorted(\n",
    "    [os.path.join(test_dir, fname) for fname in os.listdir(test_dir) if fname.endswith('.jpg')],\n",
    "    key=lambda x: int(os.path.basename(x).split('.')[0])\n",
    ")\n",
    "\n",
    "\n",
    "# Create a dataset from file paths\n",
    "test_ds = tf.data.Dataset.from_tensor_slices(test_images)\n",
    "test_ds = test_ds.map(lambda x: preprocess_test_image(x), num_parallel_calls=tf.data.AUTOTUNE)\n",
    "test_ds = test_ds.batch(32).prefetch(tf.data.AUTOTUNE)\n",
    "\n",
    "# Now you can use this dataset for predictions\n",
    "X_test = np.concatenate([batch.numpy() for batch in test_ds], axis=0)"
   ]
  },
  {
   "cell_type": "code",
   "execution_count": null,
   "metadata": {
    "trusted": true
   },
   "outputs": [],
   "source": [
    "print(\"Min pixel value in test data:\", X_test.min())\n",
    "print(\"Max pixel value in test data:\", X_test.max())"
   ]
  },
  {
   "cell_type": "code",
   "execution_count": null,
   "metadata": {
    "trusted": true
   },
   "outputs": [],
   "source": [
    "print(\"Shape of one image:\", X_test[0].shape)  # Should print (224, 224, 3)\n",
    "print(\"Total number of test images:\", X_test.shape[0])"
   ]
  },
  {
   "cell_type": "markdown",
   "metadata": {},
   "source": [
    "BEST MODEL IS EFFIECIENTNET"
   ]
  },
  {
   "cell_type": "markdown",
   "metadata": {},
   "source": [
    "## TESTING XCEPTION MODEL SINCE IT GAVE GOOD RESULTS"
   ]
  },
  {
   "cell_type": "code",
   "execution_count": null,
   "metadata": {
    "trusted": true
   },
   "outputs": [],
   "source": [
    "# from tensorflow.keras import layers, models\n",
    "# from tensorflow.keras.optimizers import Adam\n",
    "\n",
    "# # Load pretrained Xception\n",
    "# xception_base = Xception(weights='imagenet', include_top=False, input_shape=(224, 224, 3))\n",
    "# xception_base.trainable = False  # Freeze base layers\n",
    "\n",
    "# # Build model\n",
    "# xception_model = models.Sequential([\n",
    "#     xception_base,\n",
    "#     layers.GlobalAveragePooling2D(),\n",
    "#     layers.Dense(1, activation='sigmoid')\n",
    "# ])\n",
    "\n",
    "# # Compile\n",
    "# xception_model.compile(optimizer=Adam(learning_rate=0.001),\n",
    "#                        loss='binary_crossentropy',\n",
    "#                        metrics=['accuracy'])\n",
    "\n",
    "# xception_model.summary()"
   ]
  },
  {
   "cell_type": "code",
   "execution_count": null,
   "metadata": {
    "trusted": true
   },
   "outputs": [],
   "source": [
    "# history_xception = xception_model.fit(\n",
    "#     train_ds,\n",
    "#     validation_data=val_ds,\n",
    "#     epochs=5\n",
    "# )"
   ]
  },
  {
   "cell_type": "markdown",
   "metadata": {},
   "source": [
    "### J"
   ]
  },
  {
   "cell_type": "markdown",
   "metadata": {},
   "source": [
    "#### USING MOBILENET V2 [TRANSFER LEARNING]"
   ]
  },
  {
   "cell_type": "code",
   "execution_count": null,
   "metadata": {
    "trusted": true
   },
   "outputs": [],
   "source": [
    "from tensorflow.keras.applications import MobileNetV2\n",
    "from tensorflow.keras import layers, models\n",
    "from tensorflow.keras.optimizers import Adam\n",
    "\n",
    "# Load MobileNetV2 base\n",
    "base_model = MobileNetV2(input_shape=(224, 224, 3), include_top=False, weights='imagenet')\n",
    "base_model.trainable = False  # freeze pretrained layers\n",
    "\n",
    "# Build full model\n",
    "model = models.Sequential([\n",
    "    base_model,\n",
    "    layers.GlobalAveragePooling2D(),\n",
    "    layers.Dense(1, activation='sigmoid')  # Binary classification\n",
    "])\n",
    "\n",
    "# Compile\n",
    "model.compile(optimizer=Adam(learning_rate=0.001),\n",
    "              loss='binary_crossentropy',\n",
    "              metrics=['accuracy'])\n",
    "\n",
    "model.summary()"
   ]
  },
  {
   "cell_type": "code",
   "execution_count": null,
   "metadata": {
    "trusted": true
   },
   "outputs": [],
   "source": [
    "# Train the model\n",
    "history_mobilenet = model.fit(\n",
    "    train_ds,\n",
    "    validation_data=val_ds,\n",
    "    epochs=5  # Start with 5; increase if training looks good\n",
    ")"
   ]
  },
  {
   "cell_type": "code",
   "execution_count": null,
   "metadata": {
    "trusted": true
   },
   "outputs": [],
   "source": [
    "preds = model.predict(X_test, batch_size=16)  # or use 64 depending on memory"
   ]
  },
  {
   "cell_type": "code",
   "execution_count": null,
   "metadata": {
    "trusted": true
   },
   "outputs": [],
   "source": [
    "import pandas as pd\n",
    "\n",
    "ids = [int(fname.split('.')[0]) for fname in test_filenames]\n",
    "submission = pd.DataFrame({\n",
    "    \"id\": ids,\n",
    "    \"label\": preds.flatten()  # Flatten to 1D array\n",
    "})\n",
    "submission.sort_values(\"id\", inplace=True)\n",
    "submission.to_csv(\"submission.csv\", index=False)"
   ]
  },
  {
   "cell_type": "markdown",
   "metadata": {},
   "source": [
    "### NOTE: I HAVE COMMENTEDD OUT THE MODEL EXPLORATION AND OTHER EDA PART FOR QUICK EXECUTION IN THE KAGGLE "
   ]
  }
 ],
 "metadata": {
  "kaggle": {
   "accelerator": "nvidiaTeslaT4",
   "dataSources": [
    {
     "databundleVersionId": 38425,
     "sourceId": 5441,
     "sourceType": "competition"
    },
    {
     "datasetId": 7214680,
     "sourceId": 11506652,
     "sourceType": "datasetVersion"
    },
    {
     "datasetId": 7215481,
     "sourceId": 11507788,
     "sourceType": "datasetVersion"
    }
   ],
   "dockerImageVersionId": 31011,
   "isGpuEnabled": true,
   "isInternetEnabled": true,
   "language": "python",
   "sourceType": "notebook"
  },
  "kernelspec": {
   "display_name": "Python 3",
   "language": "python",
   "name": "python3"
  },
  "language_info": {
   "codemirror_mode": {
    "name": "ipython",
    "version": 3
   },
   "file_extension": ".py",
   "mimetype": "text/x-python",
   "name": "python",
   "nbconvert_exporter": "python",
   "pygments_lexer": "ipython3",
   "version": "3.11.11"
  }
 },
 "nbformat": 4,
 "nbformat_minor": 4
}
